{
  "nbformat": 4,
  "nbformat_minor": 0,
  "metadata": {
    "colab": {
      "name": "Car price pridiction ",
      "provenance": [],
      "collapsed_sections": []
    },
    "kernelspec": {
      "name": "python3",
      "display_name": "Python 3"
    },
    "language_info": {
      "name": "python"
    }
  },
  "cells": [
    {
      "cell_type": "code",
      "metadata": {
        "id": "aBN4Xhgw0WyB",
        "colab": {
          "base_uri": "https://localhost:8080/",
          "height": 203
        },
        "outputId": "a379ac02-b981-4b2c-cbb1-62896c0f6120"
      },
      "source": [
        "import pandas as pd\n",
        "import numpy as np\n",
        "car=pd.read_csv('quikr_car.csv')\n",
        "car.head()"
      ],
      "execution_count": null,
      "outputs": [
        {
          "output_type": "execute_result",
          "data": {
            "text/html": [
              "<div>\n",
              "<style scoped>\n",
              "    .dataframe tbody tr th:only-of-type {\n",
              "        vertical-align: middle;\n",
              "    }\n",
              "\n",
              "    .dataframe tbody tr th {\n",
              "        vertical-align: top;\n",
              "    }\n",
              "\n",
              "    .dataframe thead th {\n",
              "        text-align: right;\n",
              "    }\n",
              "</style>\n",
              "<table border=\"1\" class=\"dataframe\">\n",
              "  <thead>\n",
              "    <tr style=\"text-align: right;\">\n",
              "      <th></th>\n",
              "      <th>name</th>\n",
              "      <th>company</th>\n",
              "      <th>year</th>\n",
              "      <th>Price</th>\n",
              "      <th>kms_driven</th>\n",
              "      <th>fuel_type</th>\n",
              "    </tr>\n",
              "  </thead>\n",
              "  <tbody>\n",
              "    <tr>\n",
              "      <th>0</th>\n",
              "      <td>Hyundai Santro Xing XO eRLX Euro III</td>\n",
              "      <td>Hyundai</td>\n",
              "      <td>2007</td>\n",
              "      <td>80,000</td>\n",
              "      <td>45,000 kms</td>\n",
              "      <td>Petrol</td>\n",
              "    </tr>\n",
              "    <tr>\n",
              "      <th>1</th>\n",
              "      <td>Mahindra Jeep CL550 MDI</td>\n",
              "      <td>Mahindra</td>\n",
              "      <td>2006</td>\n",
              "      <td>4,25,000</td>\n",
              "      <td>40 kms</td>\n",
              "      <td>Diesel</td>\n",
              "    </tr>\n",
              "    <tr>\n",
              "      <th>2</th>\n",
              "      <td>Maruti Suzuki Alto 800 Vxi</td>\n",
              "      <td>Maruti</td>\n",
              "      <td>2018</td>\n",
              "      <td>Ask For Price</td>\n",
              "      <td>22,000 kms</td>\n",
              "      <td>Petrol</td>\n",
              "    </tr>\n",
              "    <tr>\n",
              "      <th>3</th>\n",
              "      <td>Hyundai Grand i10 Magna 1.2 Kappa VTVT</td>\n",
              "      <td>Hyundai</td>\n",
              "      <td>2014</td>\n",
              "      <td>3,25,000</td>\n",
              "      <td>28,000 kms</td>\n",
              "      <td>Petrol</td>\n",
              "    </tr>\n",
              "    <tr>\n",
              "      <th>4</th>\n",
              "      <td>Ford EcoSport Titanium 1.5L TDCi</td>\n",
              "      <td>Ford</td>\n",
              "      <td>2014</td>\n",
              "      <td>5,75,000</td>\n",
              "      <td>36,000 kms</td>\n",
              "      <td>Diesel</td>\n",
              "    </tr>\n",
              "  </tbody>\n",
              "</table>\n",
              "</div>"
            ],
            "text/plain": [
              "                                     name   company  ...  kms_driven fuel_type\n",
              "0    Hyundai Santro Xing XO eRLX Euro III   Hyundai  ...  45,000 kms    Petrol\n",
              "1                 Mahindra Jeep CL550 MDI  Mahindra  ...      40 kms    Diesel\n",
              "2              Maruti Suzuki Alto 800 Vxi    Maruti  ...  22,000 kms    Petrol\n",
              "3  Hyundai Grand i10 Magna 1.2 Kappa VTVT   Hyundai  ...  28,000 kms    Petrol\n",
              "4        Ford EcoSport Titanium 1.5L TDCi      Ford  ...  36,000 kms    Diesel\n",
              "\n",
              "[5 rows x 6 columns]"
            ]
          },
          "metadata": {},
          "execution_count": 2
        }
      ]
    },
    {
      "cell_type": "code",
      "metadata": {
        "id": "wPMCFHWmIe6Y",
        "colab": {
          "base_uri": "https://localhost:8080/"
        },
        "outputId": "8d8dc624-d599-4522-9088-d44466f2923d"
      },
      "source": [
        "car.info() "
      ],
      "execution_count": null,
      "outputs": [
        {
          "output_type": "stream",
          "name": "stdout",
          "text": [
            "<class 'pandas.core.frame.DataFrame'>\n",
            "RangeIndex: 892 entries, 0 to 891\n",
            "Data columns (total 6 columns):\n",
            " #   Column      Non-Null Count  Dtype \n",
            "---  ------      --------------  ----- \n",
            " 0   name        892 non-null    object\n",
            " 1   company     892 non-null    object\n",
            " 2   year        892 non-null    object\n",
            " 3   Price       892 non-null    object\n",
            " 4   kms_driven  840 non-null    object\n",
            " 5   fuel_type   837 non-null    object\n",
            "dtypes: object(6)\n",
            "memory usage: 41.9+ KB\n"
          ]
        }
      ]
    },
    {
      "cell_type": "code",
      "metadata": {
        "id": "ZrgSDXmnWUJv",
        "colab": {
          "base_uri": "https://localhost:8080/"
        },
        "outputId": "3bf91240-ff6a-44b1-96b2-cfbd846f3bd3"
      },
      "source": [
        "car.shape"
      ],
      "execution_count": null,
      "outputs": [
        {
          "output_type": "execute_result",
          "data": {
            "text/plain": [
              "(892, 6)"
            ]
          },
          "metadata": {},
          "execution_count": 4
        }
      ]
    },
    {
      "cell_type": "code",
      "metadata": {
        "id": "F2GOW-N1JFDW",
        "colab": {
          "base_uri": "https://localhost:8080/"
        },
        "outputId": "fbb34008-cfb5-48a8-d69e-f67af9b78231"
      },
      "source": [
        "car['year'].unique()"
      ],
      "execution_count": null,
      "outputs": [
        {
          "output_type": "execute_result",
          "data": {
            "text/plain": [
              "array(['2007', '2006', '2018', '2014', '2015', '2012', '2013', '2016',\n",
              "       '2010', '2017', '2008', '2011', '2019', '2009', '2005', '2000',\n",
              "       '...', '150k', 'TOUR', '2003', 'r 15', '2004', 'Zest', '/-Rs',\n",
              "       'sale', '1995', 'ara)', '2002', 'SELL', '2001', 'tion', 'odel',\n",
              "       '2 bs', 'arry', 'Eon', 'o...', 'ture', 'emi', 'car', 'able', 'no.',\n",
              "       'd...', 'SALE', 'digo', 'sell', 'd Ex', 'n...', 'e...', 'D...',\n",
              "       ', Ac', 'go .', 'k...', 'o c4', 'zire', 'cent', 'Sumo', 'cab',\n",
              "       't xe', 'EV2', 'r...', 'zest'], dtype=object)"
            ]
          },
          "metadata": {},
          "execution_count": 5
        }
      ]
    },
    {
      "cell_type": "code",
      "metadata": {
        "id": "8QY2y4dcLwDA",
        "colab": {
          "base_uri": "https://localhost:8080/"
        },
        "outputId": "e837b712-f88e-4a62-e78b-c5f6d5b30608"
      },
      "source": [
        "car['Price'].unique()"
      ],
      "execution_count": null,
      "outputs": [
        {
          "output_type": "execute_result",
          "data": {
            "text/plain": [
              "array(['80,000', '4,25,000', 'Ask For Price', '3,25,000', '5,75,000',\n",
              "       '1,75,000', '1,90,000', '8,30,000', '2,50,000', '1,82,000',\n",
              "       '3,15,000', '4,15,000', '3,20,000', '10,00,000', '5,00,000',\n",
              "       '3,50,000', '1,60,000', '3,10,000', '75,000', '1,00,000',\n",
              "       '2,90,000', '95,000', '1,80,000', '3,85,000', '1,05,000',\n",
              "       '6,50,000', '6,89,999', '4,48,000', '5,49,000', '5,01,000',\n",
              "       '4,89,999', '2,80,000', '3,49,999', '2,84,999', '3,45,000',\n",
              "       '4,99,999', '2,35,000', '2,49,999', '14,75,000', '3,95,000',\n",
              "       '2,20,000', '1,70,000', '85,000', '2,00,000', '5,70,000',\n",
              "       '1,10,000', '4,48,999', '18,91,111', '1,59,500', '3,44,999',\n",
              "       '4,49,999', '8,65,000', '6,99,000', '3,75,000', '2,24,999',\n",
              "       '12,00,000', '1,95,000', '3,51,000', '2,40,000', '90,000',\n",
              "       '1,55,000', '6,00,000', '1,89,500', '2,10,000', '3,90,000',\n",
              "       '1,35,000', '16,00,000', '7,01,000', '2,65,000', '5,25,000',\n",
              "       '3,72,000', '6,35,000', '5,50,000', '4,85,000', '3,29,500',\n",
              "       '2,51,111', '5,69,999', '69,999', '2,99,999', '3,99,999',\n",
              "       '4,50,000', '2,70,000', '1,58,400', '1,79,000', '1,25,000',\n",
              "       '2,99,000', '1,50,000', '2,75,000', '2,85,000', '3,40,000',\n",
              "       '70,000', '2,89,999', '8,49,999', '7,49,999', '2,74,999',\n",
              "       '9,84,999', '5,99,999', '2,44,999', '4,74,999', '2,45,000',\n",
              "       '1,69,500', '3,70,000', '1,68,000', '1,45,000', '98,500',\n",
              "       '2,09,000', '1,85,000', '9,00,000', '6,99,999', '1,99,999',\n",
              "       '5,44,999', '1,99,000', '5,40,000', '49,000', '7,00,000', '55,000',\n",
              "       '8,95,000', '3,55,000', '5,65,000', '3,65,000', '40,000',\n",
              "       '4,00,000', '3,30,000', '5,80,000', '3,79,000', '2,19,000',\n",
              "       '5,19,000', '7,30,000', '20,00,000', '21,00,000', '14,00,000',\n",
              "       '3,11,000', '8,55,000', '5,35,000', '1,78,000', '3,00,000',\n",
              "       '2,55,000', '5,49,999', '3,80,000', '57,000', '4,10,000',\n",
              "       '2,25,000', '1,20,000', '59,000', '5,99,000', '6,75,000', '72,500',\n",
              "       '6,10,000', '2,30,000', '5,20,000', '5,24,999', '4,24,999',\n",
              "       '6,44,999', '5,84,999', '7,99,999', '4,44,999', '6,49,999',\n",
              "       '9,44,999', '5,74,999', '3,74,999', '1,30,000', '4,01,000',\n",
              "       '13,50,000', '1,74,999', '2,39,999', '99,999', '3,24,999',\n",
              "       '10,74,999', '11,30,000', '1,49,000', '7,70,000', '30,000',\n",
              "       '3,35,000', '3,99,000', '65,000', '1,69,999', '1,65,000',\n",
              "       '5,60,000', '9,50,000', '7,15,000', '45,000', '9,40,000',\n",
              "       '1,55,555', '15,00,000', '4,95,000', '8,00,000', '12,99,000',\n",
              "       '5,30,000', '14,99,000', '32,000', '4,05,000', '7,60,000',\n",
              "       '7,50,000', '4,19,000', '1,40,000', '15,40,000', '1,23,000',\n",
              "       '4,98,000', '4,80,000', '4,88,000', '15,25,000', '5,48,900',\n",
              "       '7,25,000', '99,000', '52,000', '28,00,000', '4,99,000',\n",
              "       '3,81,000', '2,78,000', '6,90,000', '2,60,000', '90,001',\n",
              "       '1,15,000', '15,99,000', '1,59,000', '51,999', '2,15,000',\n",
              "       '35,000', '11,50,000', '2,69,000', '60,000', '4,30,000',\n",
              "       '85,00,003', '4,01,919', '4,90,000', '4,24,000', '2,05,000',\n",
              "       '5,49,900', '3,71,500', '4,35,000', '1,89,700', '3,89,700',\n",
              "       '3,60,000', '2,95,000', '1,14,990', '10,65,000', '4,70,000',\n",
              "       '48,000', '1,88,000', '4,65,000', '1,79,999', '21,90,000',\n",
              "       '23,90,000', '10,75,000', '4,75,000', '10,25,000', '6,15,000',\n",
              "       '19,00,000', '14,90,000', '15,10,000', '18,50,000', '7,90,000',\n",
              "       '17,25,000', '12,25,000', '68,000', '9,70,000', '31,00,000',\n",
              "       '8,99,000', '88,000', '53,000', '5,68,500', '71,000', '5,90,000',\n",
              "       '7,95,000', '42,000', '1,89,000', '1,62,000', '35,999',\n",
              "       '29,00,000', '39,999', '50,500', '5,10,000', '8,60,000',\n",
              "       '5,00,001'], dtype=object)"
            ]
          },
          "metadata": {},
          "execution_count": 6
        }
      ]
    },
    {
      "cell_type": "code",
      "metadata": {
        "id": "zDzml2wUM6S0",
        "colab": {
          "base_uri": "https://localhost:8080/"
        },
        "outputId": "fbe99904-5b24-4940-e04f-80c13efcd149"
      },
      "source": [
        "car['kms_driven'].unique()"
      ],
      "execution_count": null,
      "outputs": [
        {
          "output_type": "execute_result",
          "data": {
            "text/plain": [
              "array(['45,000 kms', '40 kms', '22,000 kms', '28,000 kms', '36,000 kms',\n",
              "       '59,000 kms', '41,000 kms', '25,000 kms', '24,530 kms',\n",
              "       '60,000 kms', '30,000 kms', '32,000 kms', '48,660 kms',\n",
              "       '4,000 kms', '16,934 kms', '43,000 kms', '35,550 kms',\n",
              "       '39,522 kms', '39,000 kms', '55,000 kms', '72,000 kms',\n",
              "       '15,975 kms', '70,000 kms', '23,452 kms', '35,522 kms',\n",
              "       '48,508 kms', '15,487 kms', '82,000 kms', '20,000 kms',\n",
              "       '68,000 kms', '38,000 kms', '27,000 kms', '33,000 kms',\n",
              "       '46,000 kms', '16,000 kms', '47,000 kms', '35,000 kms',\n",
              "       '30,874 kms', '15,000 kms', '29,685 kms', '1,30,000 kms',\n",
              "       '19,000 kms', nan, '54,000 kms', '13,000 kms', '38,200 kms',\n",
              "       '50,000 kms', '13,500 kms', '3,600 kms', '45,863 kms',\n",
              "       '60,500 kms', '12,500 kms', '18,000 kms', '13,349 kms',\n",
              "       '29,000 kms', '44,000 kms', '42,000 kms', '14,000 kms',\n",
              "       '49,000 kms', '36,200 kms', '51,000 kms', '1,04,000 kms',\n",
              "       '33,333 kms', '33,600 kms', '5,600 kms', '7,500 kms', '26,000 kms',\n",
              "       '24,330 kms', '65,480 kms', '28,028 kms', '2,00,000 kms',\n",
              "       '99,000 kms', '2,800 kms', '21,000 kms', '11,000 kms',\n",
              "       '66,000 kms', '3,000 kms', '7,000 kms', '38,500 kms', '37,200 kms',\n",
              "       '43,200 kms', '24,800 kms', '45,872 kms', '40,000 kms',\n",
              "       '11,400 kms', '97,200 kms', '52,000 kms', '31,000 kms',\n",
              "       '1,75,430 kms', '37,000 kms', '65,000 kms', '3,350 kms',\n",
              "       '75,000 kms', '62,000 kms', '73,000 kms', '2,200 kms',\n",
              "       '54,870 kms', '34,580 kms', '97,000 kms', '60 kms', '80,200 kms',\n",
              "       '3,200 kms', '0,000 kms', '5,000 kms', '588 kms', '71,200 kms',\n",
              "       '1,75,400 kms', '9,300 kms', '56,758 kms', '10,000 kms',\n",
              "       '56,450 kms', '56,000 kms', '32,700 kms', '9,000 kms', '73 kms',\n",
              "       '1,60,000 kms', '84,000 kms', '58,559 kms', '57,000 kms',\n",
              "       '1,70,000 kms', '80,000 kms', '6,821 kms', '23,000 kms',\n",
              "       '34,000 kms', '1,800 kms', '4,00,000 kms', '48,000 kms',\n",
              "       '90,000 kms', '12,000 kms', '69,900 kms', '1,66,000 kms',\n",
              "       '122 kms', '0 kms', '24,000 kms', '36,469 kms', '7,800 kms',\n",
              "       '24,695 kms', '15,141 kms', '59,910 kms', '1,00,000 kms',\n",
              "       '4,500 kms', '1,29,000 kms', '300 kms', '1,31,000 kms',\n",
              "       '1,11,111 kms', '59,466 kms', '25,500 kms', '44,005 kms',\n",
              "       '2,110 kms', '43,222 kms', '1,00,200 kms', '65 kms',\n",
              "       '1,40,000 kms', '1,03,553 kms', '58,000 kms', '1,20,000 kms',\n",
              "       '49,800 kms', '100 kms', '81,876 kms', '6,020 kms', '55,700 kms',\n",
              "       '18,500 kms', '1,80,000 kms', '53,000 kms', '35,500 kms',\n",
              "       '22,134 kms', '1,000 kms', '8,500 kms', '87,000 kms', '6,000 kms',\n",
              "       '15,574 kms', '8,000 kms', '55,800 kms', '56,400 kms',\n",
              "       '72,160 kms', '11,500 kms', '1,33,000 kms', '2,000 kms',\n",
              "       '88,000 kms', '65,422 kms', '1,17,000 kms', '1,50,000 kms',\n",
              "       '10,750 kms', '6,800 kms', '5 kms', '9,800 kms', '57,923 kms',\n",
              "       '30,201 kms', '6,200 kms', '37,518 kms', '24,652 kms', '383 kms',\n",
              "       '95,000 kms', '3,528 kms', '52,500 kms', '47,900 kms',\n",
              "       '52,800 kms', '1,95,000 kms', '48,008 kms', '48,247 kms',\n",
              "       '9,400 kms', '64,000 kms', '2,137 kms', '10,544 kms', '49,500 kms',\n",
              "       '1,47,000 kms', '90,001 kms', '48,006 kms', '74,000 kms',\n",
              "       '85,000 kms', '29,500 kms', '39,700 kms', '67,000 kms',\n",
              "       '19,336 kms', '60,105 kms', '45,933 kms', '1,02,563 kms',\n",
              "       '28,600 kms', '41,800 kms', '1,16,000 kms', '42,590 kms',\n",
              "       '7,400 kms', '54,500 kms', '76,000 kms', '00 kms', '11,523 kms',\n",
              "       '38,600 kms', '95,500 kms', '37,458 kms', '85,960 kms',\n",
              "       '12,516 kms', '30,600 kms', '2,550 kms', '62,500 kms',\n",
              "       '69,000 kms', '28,400 kms', '68,485 kms', '3,500 kms',\n",
              "       '85,455 kms', '63,000 kms', '1,600 kms', '77,000 kms',\n",
              "       '26,500 kms', '2,875 kms', '13,900 kms', '1,500 kms', '2,450 kms',\n",
              "       '1,625 kms', '33,400 kms', '60,123 kms', '38,900 kms',\n",
              "       '1,37,495 kms', '91,200 kms', '1,46,000 kms', '1,00,800 kms',\n",
              "       '2,100 kms', '2,500 kms', '1,32,000 kms', 'Petrol'], dtype=object)"
            ]
          },
          "metadata": {},
          "execution_count": 7
        }
      ]
    },
    {
      "cell_type": "code",
      "metadata": {
        "id": "0sKThnnUNM5L",
        "colab": {
          "base_uri": "https://localhost:8080/"
        },
        "outputId": "5db2b094-62de-4cb7-808a-60eff060bde6"
      },
      "source": [
        "car['fuel_type'].unique()"
      ],
      "execution_count": null,
      "outputs": [
        {
          "output_type": "execute_result",
          "data": {
            "text/plain": [
              "array(['Petrol', 'Diesel', nan, 'LPG'], dtype=object)"
            ]
          },
          "metadata": {},
          "execution_count": 8
        }
      ]
    },
    {
      "cell_type": "markdown",
      "metadata": {
        "id": "oa9l3WMqOC5z"
      },
      "source": [
        "#Quality Error \n",
        "here we found inappinappropriate data we we cleaned it.\n",
        "some of the essues were:-\n",
        "\n",
        "\n",
        "*   Year has many non-year values.\n",
        "*   year is present in object have to convert in int.\n",
        "*   price have an error name \"Ask For Price\".\n",
        "*   price is present in object have to conver it in the int.\n",
        "*   kms_driven has \"kms\" written with integers.\n",
        "*   kms_driven in object have to conver it in the int.\n",
        "*   kms_driven has a \"nan\" value\n",
        "*   fuel_type has \"nan: value \n",
        "*   The names are not written in well manner so we will keep only first 3 words of their name  \n",
        "\n",
        "\n",
        "\n",
        "\n",
        "\n",
        "\n",
        "\n",
        "\n"
      ]
    },
    {
      "cell_type": "code",
      "metadata": {
        "id": "K65UW_dXS_VU"
      },
      "source": [
        "backup=car.copy()"
      ],
      "execution_count": null,
      "outputs": []
    },
    {
      "cell_type": "markdown",
      "metadata": {
        "id": "nyzo8eFcT9ry"
      },
      "source": [
        "Lets clean the data "
      ]
    },
    {
      "cell_type": "code",
      "metadata": {
        "id": "CkCiLfvjUC2K"
      },
      "source": [
        "car=car[car['year'].str.isnumeric()]"
      ],
      "execution_count": null,
      "outputs": []
    },
    {
      "cell_type": "markdown",
      "metadata": {
        "id": "gkRKHXRCWklF"
      },
      "source": []
    },
    {
      "cell_type": "markdown",
      "metadata": {
        "id": "qk6vX5d1U-Oa"
      },
      "source": [
        "this will only keep the numeric values of the year \n",
        "\n"
      ]
    },
    {
      "cell_type": "code",
      "metadata": {
        "id": "ZXiunyFLXTdN",
        "colab": {
          "base_uri": "https://localhost:8080/"
        },
        "outputId": "638b7411-bab0-4844-93cd-e0d296992acf"
      },
      "source": [
        "car['year']=car['year'].astype(int)"
      ],
      "execution_count": null,
      "outputs": [
        {
          "output_type": "stream",
          "name": "stderr",
          "text": [
            "/usr/local/lib/python3.7/dist-packages/ipykernel_launcher.py:1: SettingWithCopyWarning: \n",
            "A value is trying to be set on a copy of a slice from a DataFrame.\n",
            "Try using .loc[row_indexer,col_indexer] = value instead\n",
            "\n",
            "See the caveats in the documentation: https://pandas.pydata.org/pandas-docs/stable/user_guide/indexing.html#returning-a-view-versus-a-copy\n",
            "  \"\"\"Entry point for launching an IPython kernel.\n"
          ]
        }
      ]
    },
    {
      "cell_type": "markdown",
      "metadata": {
        "id": "lGE90_vYX8pW"
      },
      "source": [
        "here we have cleared all the ,mistakes from the year secion "
      ]
    },
    {
      "cell_type": "code",
      "metadata": {
        "id": "StY7z-bRYFmz"
      },
      "source": [
        "car=car[car['Price']!=\"Ask For Price\"]"
      ],
      "execution_count": null,
      "outputs": []
    },
    {
      "cell_type": "code",
      "metadata": {
        "id": "nk8Qcppag6py"
      },
      "source": [
        "car['Price']=car['Price'].str.replace(',','').astype(int)"
      ],
      "execution_count": null,
      "outputs": []
    },
    {
      "cell_type": "markdown",
      "metadata": {
        "id": "SSsWCBXCh_EP"
      },
      "source": [
        "Price problems are solved here."
      ]
    },
    {
      "cell_type": "code",
      "metadata": {
        "id": "aMrQFL1siHRu"
      },
      "source": [
        "# here we will split 8000 km by space and then we are going to make 8000 as int \n",
        "car['kms_driven']=car['kms_driven'].str.split(' ').str.get(0).str.replace(',','')\n",
        "car=car[car['kms_driven'].str.isnumeric()]\n",
        "car['kms_driven']=car['kms_driven'].astype(int)"
      ],
      "execution_count": null,
      "outputs": []
    },
    {
      "cell_type": "code",
      "metadata": {
        "id": "Ryh-mKgHkkIs",
        "colab": {
          "base_uri": "https://localhost:8080/"
        },
        "outputId": "f393f87d-dea3-420f-df68-f0b5b6db2486"
      },
      "source": [
        "car.info( )"
      ],
      "execution_count": null,
      "outputs": [
        {
          "output_type": "stream",
          "name": "stdout",
          "text": [
            "<class 'pandas.core.frame.DataFrame'>\n",
            "Int64Index: 817 entries, 0 to 889\n",
            "Data columns (total 6 columns):\n",
            " #   Column      Non-Null Count  Dtype \n",
            "---  ------      --------------  ----- \n",
            " 0   name        817 non-null    object\n",
            " 1   company     817 non-null    object\n",
            " 2   year        817 non-null    int64 \n",
            " 3   Price       817 non-null    int64 \n",
            " 4   kms_driven  817 non-null    int64 \n",
            " 5   fuel_type   816 non-null    object\n",
            "dtypes: int64(3), object(3)\n",
            "memory usage: 44.7+ KB\n"
          ]
        }
      ]
    },
    {
      "cell_type": "markdown",
      "metadata": {
        "id": "YCDtaa5vlGwI"
      },
      "source": [
        "All problems of kms-driven are solved "
      ]
    },
    {
      "cell_type": "markdown",
      "metadata": {
        "id": "ZhRpICh3lcD8"
      },
      "source": [
        "now in **Fuel type ** the 132 row contain nan value so we will exclude it."
      ]
    },
    {
      "cell_type": "code",
      "metadata": {
        "id": "3sHw2pnklyRu"
      },
      "source": [
        "car=car[~car['fuel_type'].isna()]"
      ],
      "execution_count": null,
      "outputs": []
    },
    {
      "cell_type": "markdown",
      "metadata": {
        "id": "6YcPrnP2ma5N"
      },
      "source": [
        "All problems of fuel_type are solved"
      ]
    },
    {
      "cell_type": "markdown",
      "metadata": {
        "id": "PXbcxKkNnq3s"
      },
      "source": [
        "Now we will work on the Names of the cars \n",
        "we will keep only 3 words from their names "
      ]
    },
    {
      "cell_type": "code",
      "metadata": {
        "id": "oqcxsphBmfpZ"
      },
      "source": [
        "car['name']=car['name'].str.split(' ').str.slice(0,3).str.join(' ')"
      ],
      "execution_count": null,
      "outputs": []
    },
    {
      "cell_type": "markdown",
      "metadata": {
        "id": "ykcJTLBzoRLb"
      },
      "source": [
        "here we will reset index "
      ]
    },
    {
      "cell_type": "code",
      "metadata": {
        "id": "0DMz9snnoUhS"
      },
      "source": [
        "car=car.reset_index(drop=True)"
      ],
      "execution_count": null,
      "outputs": []
    },
    {
      "cell_type": "markdown",
      "metadata": {
        "id": "jWw4X9nDqSGu"
      },
      "source": [
        "here is one outliar lits clear that out liar"
      ]
    },
    {
      "cell_type": "code",
      "metadata": {
        "id": "7zz6CCT4qe5p",
        "colab": {
          "base_uri": "https://localhost:8080/",
          "height": 417
        },
        "outputId": "f33d081f-6e8b-451a-da73-5ee514ddbf51"
      },
      "source": [
        "car[car['Price']<6e6].reset_index(drop=True)"
      ],
      "execution_count": null,
      "outputs": [
        {
          "output_type": "execute_result",
          "data": {
            "text/html": [
              "<div>\n",
              "<style scoped>\n",
              "    .dataframe tbody tr th:only-of-type {\n",
              "        vertical-align: middle;\n",
              "    }\n",
              "\n",
              "    .dataframe tbody tr th {\n",
              "        vertical-align: top;\n",
              "    }\n",
              "\n",
              "    .dataframe thead th {\n",
              "        text-align: right;\n",
              "    }\n",
              "</style>\n",
              "<table border=\"1\" class=\"dataframe\">\n",
              "  <thead>\n",
              "    <tr style=\"text-align: right;\">\n",
              "      <th></th>\n",
              "      <th>name</th>\n",
              "      <th>company</th>\n",
              "      <th>year</th>\n",
              "      <th>Price</th>\n",
              "      <th>kms_driven</th>\n",
              "      <th>fuel_type</th>\n",
              "    </tr>\n",
              "  </thead>\n",
              "  <tbody>\n",
              "    <tr>\n",
              "      <th>0</th>\n",
              "      <td>Hyundai Santro Xing</td>\n",
              "      <td>Hyundai</td>\n",
              "      <td>2007</td>\n",
              "      <td>80000</td>\n",
              "      <td>45000</td>\n",
              "      <td>Petrol</td>\n",
              "    </tr>\n",
              "    <tr>\n",
              "      <th>1</th>\n",
              "      <td>Mahindra Jeep CL550</td>\n",
              "      <td>Mahindra</td>\n",
              "      <td>2006</td>\n",
              "      <td>425000</td>\n",
              "      <td>40</td>\n",
              "      <td>Diesel</td>\n",
              "    </tr>\n",
              "    <tr>\n",
              "      <th>2</th>\n",
              "      <td>Hyundai Grand i10</td>\n",
              "      <td>Hyundai</td>\n",
              "      <td>2014</td>\n",
              "      <td>325000</td>\n",
              "      <td>28000</td>\n",
              "      <td>Petrol</td>\n",
              "    </tr>\n",
              "    <tr>\n",
              "      <th>3</th>\n",
              "      <td>Ford EcoSport Titanium</td>\n",
              "      <td>Ford</td>\n",
              "      <td>2014</td>\n",
              "      <td>575000</td>\n",
              "      <td>36000</td>\n",
              "      <td>Diesel</td>\n",
              "    </tr>\n",
              "    <tr>\n",
              "      <th>4</th>\n",
              "      <td>Ford Figo</td>\n",
              "      <td>Ford</td>\n",
              "      <td>2012</td>\n",
              "      <td>175000</td>\n",
              "      <td>41000</td>\n",
              "      <td>Diesel</td>\n",
              "    </tr>\n",
              "    <tr>\n",
              "      <th>...</th>\n",
              "      <td>...</td>\n",
              "      <td>...</td>\n",
              "      <td>...</td>\n",
              "      <td>...</td>\n",
              "      <td>...</td>\n",
              "      <td>...</td>\n",
              "    </tr>\n",
              "    <tr>\n",
              "      <th>810</th>\n",
              "      <td>Maruti Suzuki Ritz</td>\n",
              "      <td>Maruti</td>\n",
              "      <td>2011</td>\n",
              "      <td>270000</td>\n",
              "      <td>50000</td>\n",
              "      <td>Petrol</td>\n",
              "    </tr>\n",
              "    <tr>\n",
              "      <th>811</th>\n",
              "      <td>Tata Indica V2</td>\n",
              "      <td>Tata</td>\n",
              "      <td>2009</td>\n",
              "      <td>110000</td>\n",
              "      <td>30000</td>\n",
              "      <td>Diesel</td>\n",
              "    </tr>\n",
              "    <tr>\n",
              "      <th>812</th>\n",
              "      <td>Toyota Corolla Altis</td>\n",
              "      <td>Toyota</td>\n",
              "      <td>2009</td>\n",
              "      <td>300000</td>\n",
              "      <td>132000</td>\n",
              "      <td>Petrol</td>\n",
              "    </tr>\n",
              "    <tr>\n",
              "      <th>813</th>\n",
              "      <td>Tata Zest XM</td>\n",
              "      <td>Tata</td>\n",
              "      <td>2018</td>\n",
              "      <td>260000</td>\n",
              "      <td>27000</td>\n",
              "      <td>Diesel</td>\n",
              "    </tr>\n",
              "    <tr>\n",
              "      <th>814</th>\n",
              "      <td>Mahindra Quanto C8</td>\n",
              "      <td>Mahindra</td>\n",
              "      <td>2013</td>\n",
              "      <td>390000</td>\n",
              "      <td>40000</td>\n",
              "      <td>Diesel</td>\n",
              "    </tr>\n",
              "  </tbody>\n",
              "</table>\n",
              "<p>815 rows × 6 columns</p>\n",
              "</div>"
            ],
            "text/plain": [
              "                       name   company  year   Price  kms_driven fuel_type\n",
              "0       Hyundai Santro Xing   Hyundai  2007   80000       45000    Petrol\n",
              "1       Mahindra Jeep CL550  Mahindra  2006  425000          40    Diesel\n",
              "2         Hyundai Grand i10   Hyundai  2014  325000       28000    Petrol\n",
              "3    Ford EcoSport Titanium      Ford  2014  575000       36000    Diesel\n",
              "4                 Ford Figo      Ford  2012  175000       41000    Diesel\n",
              "..                      ...       ...   ...     ...         ...       ...\n",
              "810      Maruti Suzuki Ritz    Maruti  2011  270000       50000    Petrol\n",
              "811          Tata Indica V2      Tata  2009  110000       30000    Diesel\n",
              "812    Toyota Corolla Altis    Toyota  2009  300000      132000    Petrol\n",
              "813            Tata Zest XM      Tata  2018  260000       27000    Diesel\n",
              "814      Mahindra Quanto C8  Mahindra  2013  390000       40000    Diesel\n",
              "\n",
              "[815 rows x 6 columns]"
            ]
          },
          "metadata": {},
          "execution_count": 19
        }
      ]
    },
    {
      "cell_type": "markdown",
      "metadata": {
        "id": "gw4dbVjjpNSa"
      },
      "source": [
        "***The data is perfectly cleared here ***"
      ]
    },
    {
      "cell_type": "code",
      "metadata": {
        "id": "Boa___U-preg"
      },
      "source": [
        "car.to_csv('Cleaned car.csv', index=False)"
      ],
      "execution_count": null,
      "outputs": []
    },
    {
      "cell_type": "markdown",
      "metadata": {
        "id": "dAA9YZdZrNLG"
      },
      "source": [
        "### **MODEL**"
      ]
    },
    {
      "cell_type": "code",
      "metadata": {
        "id": "V_-P0XDRrSjZ"
      },
      "source": [
        "X= car.drop(columns='Price')\n",
        "y= car['Price']"
      ],
      "execution_count": null,
      "outputs": []
    },
    {
      "cell_type": "code",
      "metadata": {
        "id": "lWrc9auaTXmv"
      },
      "source": [
        "from sklearn.model_selection import train_test_split\n",
        "X_train, X_test,y_train, y_test=train_test_split(X,y, test_size=0.2)"
      ],
      "execution_count": null,
      "outputs": []
    },
    {
      "cell_type": "code",
      "metadata": {
        "id": "49tXdtg3UHE8"
      },
      "source": [
        "from sklearn.linear_model import LinearRegression\n",
        "from sklearn.metrics import r2_score \n",
        "from sklearn.preprocessing import OneHotEncoder\n",
        "from sklearn.compose import make_column_transformer\n",
        "from sklearn.pipeline import make_pipeline"
      ],
      "execution_count": null,
      "outputs": []
    },
    {
      "cell_type": "code",
      "metadata": {
        "colab": {
          "base_uri": "https://localhost:8080/"
        },
        "id": "XAP9A0ieVCEI",
        "outputId": "d4e0ab03-655f-42a8-b176-d58fbe7871e1"
      },
      "source": [
        "ohe= OneHotEncoder()\n",
        "ohe.fit(X[['name','company','fuel_type']])"
      ],
      "execution_count": null,
      "outputs": [
        {
          "output_type": "execute_result",
          "data": {
            "text/plain": [
              "OneHotEncoder(categories='auto', drop=None, dtype=<class 'numpy.float64'>,\n",
              "              handle_unknown='error', sparse=True)"
            ]
          },
          "metadata": {},
          "execution_count": 24
        }
      ]
    },
    {
      "cell_type": "code",
      "metadata": {
        "colab": {
          "base_uri": "https://localhost:8080/"
        },
        "id": "xnXquS-tzVSs",
        "outputId": "da0b951d-c2a9-45d5-d7db-4d59f75d4eb3"
      },
      "source": [
        "X['company']"
      ],
      "execution_count": null,
      "outputs": [
        {
          "output_type": "execute_result",
          "data": {
            "text/plain": [
              "0       Hyundai\n",
              "1      Mahindra\n",
              "2       Hyundai\n",
              "3          Ford\n",
              "4          Ford\n",
              "         ...   \n",
              "811      Maruti\n",
              "812        Tata\n",
              "813      Toyota\n",
              "814        Tata\n",
              "815    Mahindra\n",
              "Name: company, Length: 816, dtype: object"
            ]
          },
          "metadata": {},
          "execution_count": 25
        }
      ]
    },
    {
      "cell_type": "code",
      "metadata": {
        "id": "_gpnsZBZbuwA",
        "colab": {
          "base_uri": "https://localhost:8080/"
        },
        "outputId": "eadb3545-9b59-4c39-9ff8-4e3890f996d5"
      },
      "source": [
        "ohe.categories_"
      ],
      "execution_count": null,
      "outputs": [
        {
          "output_type": "execute_result",
          "data": {
            "text/plain": [
              "[array(['Audi A3 Cabriolet', 'Audi A4 1.8', 'Audi A4 2.0', 'Audi A6 2.0',\n",
              "        'Audi A8', 'Audi Q3 2.0', 'Audi Q5 2.0', 'Audi Q7', 'BMW 3 Series',\n",
              "        'BMW 5 Series', 'BMW 7 Series', 'BMW X1', 'BMW X1 sDrive20d',\n",
              "        'BMW X1 xDrive20d', 'Chevrolet Beat', 'Chevrolet Beat Diesel',\n",
              "        'Chevrolet Beat LS', 'Chevrolet Beat LT', 'Chevrolet Beat PS',\n",
              "        'Chevrolet Cruze LTZ', 'Chevrolet Enjoy', 'Chevrolet Enjoy 1.4',\n",
              "        'Chevrolet Sail 1.2', 'Chevrolet Sail UVA', 'Chevrolet Spark',\n",
              "        'Chevrolet Spark 1.0', 'Chevrolet Spark LS', 'Chevrolet Spark LT',\n",
              "        'Chevrolet Tavera LS', 'Chevrolet Tavera Neo', 'Datsun GO T',\n",
              "        'Datsun Go Plus', 'Datsun Redi GO', 'Fiat Linea Emotion',\n",
              "        'Fiat Petra ELX', 'Fiat Punto Emotion', 'Force Motors Force',\n",
              "        'Force Motors One', 'Ford EcoSport', 'Ford EcoSport Ambiente',\n",
              "        'Ford EcoSport Titanium', 'Ford EcoSport Trend',\n",
              "        'Ford Endeavor 4x4', 'Ford Fiesta', 'Ford Fiesta SXi', 'Ford Figo',\n",
              "        'Ford Figo Diesel', 'Ford Figo Duratorq', 'Ford Figo Petrol',\n",
              "        'Ford Fusion 1.4', 'Ford Ikon 1.3', 'Ford Ikon 1.6',\n",
              "        'Hindustan Motors Ambassador', 'Honda Accord', 'Honda Amaze',\n",
              "        'Honda Amaze 1.2', 'Honda Amaze 1.5', 'Honda Brio', 'Honda Brio V',\n",
              "        'Honda Brio VX', 'Honda City', 'Honda City 1.5', 'Honda City SV',\n",
              "        'Honda City VX', 'Honda City ZX', 'Honda Jazz S', 'Honda Jazz VX',\n",
              "        'Honda Mobilio', 'Honda Mobilio S', 'Honda WR V', 'Hyundai Accent',\n",
              "        'Hyundai Accent Executive', 'Hyundai Accent GLE',\n",
              "        'Hyundai Accent GLX', 'Hyundai Creta', 'Hyundai Creta 1.6',\n",
              "        'Hyundai Elantra 1.8', 'Hyundai Elantra SX', 'Hyundai Elite i20',\n",
              "        'Hyundai Eon', 'Hyundai Eon D', 'Hyundai Eon Era',\n",
              "        'Hyundai Eon Magna', 'Hyundai Eon Sportz', 'Hyundai Fluidic Verna',\n",
              "        'Hyundai Getz', 'Hyundai Getz GLE', 'Hyundai Getz Prime',\n",
              "        'Hyundai Grand i10', 'Hyundai Santro', 'Hyundai Santro AE',\n",
              "        'Hyundai Santro Xing', 'Hyundai Sonata Transform', 'Hyundai Verna',\n",
              "        'Hyundai Verna 1.4', 'Hyundai Verna 1.6', 'Hyundai Verna Fluidic',\n",
              "        'Hyundai Verna Transform', 'Hyundai Verna VGT',\n",
              "        'Hyundai Xcent Base', 'Hyundai Xcent SX', 'Hyundai i10',\n",
              "        'Hyundai i10 Era', 'Hyundai i10 Magna', 'Hyundai i10 Sportz',\n",
              "        'Hyundai i20', 'Hyundai i20 Active', 'Hyundai i20 Asta',\n",
              "        'Hyundai i20 Magna', 'Hyundai i20 Select', 'Hyundai i20 Sportz',\n",
              "        'Jaguar XE XE', 'Jaguar XF 2.2', 'Jeep Wrangler Unlimited',\n",
              "        'Land Rover Freelander', 'Mahindra Bolero DI',\n",
              "        'Mahindra Bolero Power', 'Mahindra Bolero SLE',\n",
              "        'Mahindra Jeep CL550', 'Mahindra Jeep MM', 'Mahindra KUV100',\n",
              "        'Mahindra KUV100 K8', 'Mahindra Logan', 'Mahindra Logan Diesel',\n",
              "        'Mahindra Quanto C4', 'Mahindra Quanto C8', 'Mahindra Scorpio',\n",
              "        'Mahindra Scorpio 2.6', 'Mahindra Scorpio LX',\n",
              "        'Mahindra Scorpio S10', 'Mahindra Scorpio S4',\n",
              "        'Mahindra Scorpio SLE', 'Mahindra Scorpio SLX',\n",
              "        'Mahindra Scorpio VLX', 'Mahindra Scorpio Vlx',\n",
              "        'Mahindra Scorpio W', 'Mahindra TUV300 T4', 'Mahindra TUV300 T8',\n",
              "        'Mahindra Thar CRDe', 'Mahindra XUV500', 'Mahindra XUV500 W10',\n",
              "        'Mahindra XUV500 W6', 'Mahindra XUV500 W8', 'Mahindra Xylo D2',\n",
              "        'Mahindra Xylo E4', 'Mahindra Xylo E8', 'Maruti Suzuki 800',\n",
              "        'Maruti Suzuki A', 'Maruti Suzuki Alto', 'Maruti Suzuki Baleno',\n",
              "        'Maruti Suzuki Celerio', 'Maruti Suzuki Ciaz',\n",
              "        'Maruti Suzuki Dzire', 'Maruti Suzuki Eeco',\n",
              "        'Maruti Suzuki Ertiga', 'Maruti Suzuki Esteem',\n",
              "        'Maruti Suzuki Estilo', 'Maruti Suzuki Maruti',\n",
              "        'Maruti Suzuki Omni', 'Maruti Suzuki Ritz', 'Maruti Suzuki S',\n",
              "        'Maruti Suzuki SX4', 'Maruti Suzuki Stingray',\n",
              "        'Maruti Suzuki Swift', 'Maruti Suzuki Versa',\n",
              "        'Maruti Suzuki Vitara', 'Maruti Suzuki Wagon', 'Maruti Suzuki Zen',\n",
              "        'Mercedes Benz A', 'Mercedes Benz B', 'Mercedes Benz C',\n",
              "        'Mercedes Benz GLA', 'Mini Cooper S', 'Mitsubishi Lancer 1.8',\n",
              "        'Mitsubishi Pajero Sport', 'Nissan Micra XL', 'Nissan Micra XV',\n",
              "        'Nissan Sunny', 'Nissan Sunny XL', 'Nissan Terrano XL',\n",
              "        'Nissan X Trail', 'Renault Duster', 'Renault Duster 110',\n",
              "        'Renault Duster 110PS', 'Renault Duster 85', 'Renault Duster 85PS',\n",
              "        'Renault Duster RxL', 'Renault Kwid', 'Renault Kwid 1.0',\n",
              "        'Renault Kwid RXT', 'Renault Lodgy 85', 'Renault Scala RxL',\n",
              "        'Skoda Fabia', 'Skoda Fabia 1.2L', 'Skoda Fabia Classic',\n",
              "        'Skoda Laura', 'Skoda Octavia Classic', 'Skoda Rapid Elegance',\n",
              "        'Skoda Superb 1.8', 'Skoda Yeti Ambition', 'Tata Aria Pleasure',\n",
              "        'Tata Bolt XM', 'Tata Indica', 'Tata Indica V2', 'Tata Indica eV2',\n",
              "        'Tata Indigo CS', 'Tata Indigo LS', 'Tata Indigo LX',\n",
              "        'Tata Indigo Marina', 'Tata Indigo eCS', 'Tata Manza',\n",
              "        'Tata Manza Aqua', 'Tata Manza Aura', 'Tata Manza ELAN',\n",
              "        'Tata Nano', 'Tata Nano Cx', 'Tata Nano GenX', 'Tata Nano LX',\n",
              "        'Tata Nano Lx', 'Tata Sumo Gold', 'Tata Sumo Grande',\n",
              "        'Tata Sumo Victa', 'Tata Tiago Revotorq', 'Tata Tiago Revotron',\n",
              "        'Tata Tigor Revotron', 'Tata Venture EX', 'Tata Vista Quadrajet',\n",
              "        'Tata Zest Quadrajet', 'Tata Zest XE', 'Tata Zest XM',\n",
              "        'Toyota Corolla', 'Toyota Corolla Altis', 'Toyota Corolla H2',\n",
              "        'Toyota Etios', 'Toyota Etios G', 'Toyota Etios GD',\n",
              "        'Toyota Etios Liva', 'Toyota Fortuner', 'Toyota Fortuner 3.0',\n",
              "        'Toyota Innova 2.0', 'Toyota Innova 2.5', 'Toyota Qualis',\n",
              "        'Volkswagen Jetta Comfortline', 'Volkswagen Jetta Highline',\n",
              "        'Volkswagen Passat Diesel', 'Volkswagen Polo',\n",
              "        'Volkswagen Polo Comfortline', 'Volkswagen Polo Highline',\n",
              "        'Volkswagen Polo Highline1.2L', 'Volkswagen Polo Trendline',\n",
              "        'Volkswagen Vento Comfortline', 'Volkswagen Vento Highline',\n",
              "        'Volkswagen Vento Konekt', 'Volvo S80 Summum'], dtype=object),\n",
              " array(['Audi', 'BMW', 'Chevrolet', 'Datsun', 'Fiat', 'Force', 'Ford',\n",
              "        'Hindustan', 'Honda', 'Hyundai', 'Jaguar', 'Jeep', 'Land',\n",
              "        'Mahindra', 'Maruti', 'Mercedes', 'Mini', 'Mitsubishi', 'Nissan',\n",
              "        'Renault', 'Skoda', 'Tata', 'Toyota', 'Volkswagen', 'Volvo'],\n",
              "       dtype=object),\n",
              " array(['Diesel', 'LPG', 'Petrol'], dtype=object)]"
            ]
          },
          "metadata": {},
          "execution_count": 26
        }
      ]
    },
    {
      "cell_type": "code",
      "metadata": {
        "id": "O6xzwgTRWwHh"
      },
      "source": [
        "column_trans = make_column_transformer((OneHotEncoder(categories=ohe.categories_),['name','company','fuel_type']),remainder='passthrough') "
      ],
      "execution_count": null,
      "outputs": []
    },
    {
      "cell_type": "markdown",
      "metadata": {
        "id": "I7HIc5kw2ikT"
      },
      "source": []
    },
    {
      "cell_type": "code",
      "metadata": {
        "id": "MWTwMX9BadmZ"
      },
      "source": [
        "lr=LinearRegression()"
      ],
      "execution_count": null,
      "outputs": []
    },
    {
      "cell_type": "code",
      "metadata": {
        "id": "12kb6tlnaHqa"
      },
      "source": [
        "pipe=make_pipeline(column_trans,lr)"
      ],
      "execution_count": null,
      "outputs": []
    },
    {
      "cell_type": "code",
      "metadata": {
        "colab": {
          "base_uri": "https://localhost:8080/"
        },
        "id": "wf5MhdD8aux4",
        "outputId": "ca7c32da-6336-4eb8-bf9e-c3c8b26b7179"
      },
      "source": [
        "pipe.fit(X_train,y_train)"
      ],
      "execution_count": null,
      "outputs": [
        {
          "output_type": "execute_result",
          "data": {
            "text/plain": [
              "Pipeline(memory=None,\n",
              "         steps=[('columntransformer',\n",
              "                 ColumnTransformer(n_jobs=None, remainder='passthrough',\n",
              "                                   sparse_threshold=0.3,\n",
              "                                   transformer_weights=None,\n",
              "                                   transformers=[('onehotencoder',\n",
              "                                                  OneHotEncoder(categories=[array(['Audi A3 Cabriolet', 'Audi A4 1.8', 'Audi A4 2.0', 'Audi A6 2.0',\n",
              "       'Audi A8', 'Audi Q3 2.0', 'Audi Q5 2.0', 'Audi Q7', 'BMW 3 Series',\n",
              "       'BMW 5 Series', 'BMW 7 Series', 'B...\n",
              "       'Renault', 'Skoda', 'Tata', 'Toyota', 'Volkswagen', 'Volvo'],\n",
              "      dtype=object),\n",
              "                                                                            array(['Diesel', 'LPG', 'Petrol'], dtype=object)],\n",
              "                                                                drop=None,\n",
              "                                                                dtype=<class 'numpy.float64'>,\n",
              "                                                                handle_unknown='error',\n",
              "                                                                sparse=True),\n",
              "                                                  ['name', 'company',\n",
              "                                                   'fuel_type'])],\n",
              "                                   verbose=False)),\n",
              "                ('linearregression',\n",
              "                 LinearRegression(copy_X=True, fit_intercept=True, n_jobs=None,\n",
              "                                  normalize=False))],\n",
              "         verbose=False)"
            ]
          },
          "metadata": {},
          "execution_count": 30
        }
      ]
    },
    {
      "cell_type": "code",
      "metadata": {
        "id": "0wYgxnbwthZL"
      },
      "source": [
        "y_pred=pipe.predict(X_test)"
      ],
      "execution_count": null,
      "outputs": []
    },
    {
      "cell_type": "code",
      "metadata": {
        "colab": {
          "base_uri": "https://localhost:8080/"
        },
        "id": "K9Osb-Qjvs1v",
        "outputId": "b85b0218-0d72-4aa0-bb7f-39dd32249321"
      },
      "source": [
        "r2_score(y_test,y_pred)"
      ],
      "execution_count": null,
      "outputs": [
        {
          "output_type": "execute_result",
          "data": {
            "text/plain": [
              "0.7279957648448332"
            ]
          },
          "metadata": {},
          "execution_count": 32
        }
      ]
    },
    {
      "cell_type": "code",
      "metadata": {
        "id": "kULSposlaSdk"
      },
      "source": [
        "scores=[]\n",
        "for i in range(1000):\n",
        "  X_train,X_test,y_train,y_test=train_test_split(X,y,test_size=0.2, random_state=i)\n",
        "  lr=LinearRegression()\n",
        "  pipe=make_pipeline(column_trans,lr)\n",
        "  pipe.fit(X_train,y_train)\n",
        "  y_pred=pipe.predict(X_test)\n",
        "  scores.append(r2_score(y_test,y_pred))\n",
        "\n"
      ],
      "execution_count": null,
      "outputs": []
    },
    {
      "cell_type": "code",
      "metadata": {
        "colab": {
          "base_uri": "https://localhost:8080/"
        },
        "id": "xnNJlu_qaJxR",
        "outputId": "421a0ecc-1f2b-4ec7-f2c2-7579b4db9233"
      },
      "source": [
        "np.argmax(scores)"
      ],
      "execution_count": null,
      "outputs": [
        {
          "output_type": "execute_result",
          "data": {
            "text/plain": [
              "661"
            ]
          },
          "metadata": {},
          "execution_count": 34
        }
      ]
    },
    {
      "cell_type": "code",
      "metadata": {
        "colab": {
          "base_uri": "https://localhost:8080/"
        },
        "id": "HRCGxZQwZ9wX",
        "outputId": "9813de37-a2b9-4677-a7ab-b11490654bac"
      },
      "source": [
        "scores[np.argmax(scores)]"
      ],
      "execution_count": null,
      "outputs": [
        {
          "output_type": "execute_result",
          "data": {
            "text/plain": [
              "0.9026911762332083"
            ]
          },
          "metadata": {},
          "execution_count": 35
        }
      ]
    },
    {
      "cell_type": "code",
      "metadata": {
        "id": "QH3U2wOi21Oq",
        "colab": {
          "base_uri": "https://localhost:8080/"
        },
        "outputId": "57793e73-3e91-4163-8284-cc53455a0eec"
      },
      "source": [
        "  X_train,X_test,y_train,y_test=train_test_split(X,y,test_size=0.2, random_state=np.argmax(scores))\n",
        "  le=LinearRegression()\n",
        "  pipe=make_pipeline(column_trans,lr)\n",
        "  pipe.fit(X_train,y_train)\n",
        "  y_pred=pipe.predict(X_test)\n",
        "  r2_score(y_test,y_pred)"
      ],
      "execution_count": null,
      "outputs": [
        {
          "output_type": "execute_result",
          "data": {
            "text/plain": [
              "0.9026911762332083"
            ]
          },
          "metadata": {},
          "execution_count": 36
        }
      ]
    },
    {
      "cell_type": "code",
      "metadata": {
        "id": "exmzFJ1dcb2A"
      },
      "source": [
        "import pickle\n",
        "pickle.dump(pipe,open('LinearRegressionModel.pkl','wb'))\n",
        "\n",
        "model1 = pickle.load(open('LinearRegressionModel.pkl','rb'))"
      ],
      "execution_count": null,
      "outputs": []
    },
    {
      "cell_type": "code",
      "metadata": {
        "colab": {
          "base_uri": "https://localhost:8080/"
        },
        "id": "UTHT5pnLSnBc",
        "outputId": "3bfbb7b8-12e8-4d5d-c798-6688cbce1647"
      },
      "source": [
        "model1.predict(pd.DataFrame([['Maruti Suzuki Swift','Maruti',2019,100,'Petrol']], columns=['name','company','year','kms_driven','fuel_type']))"
      ],
      "execution_count": null,
      "outputs": [
        {
          "output_type": "execute_result",
          "data": {
            "text/plain": [
              "array([430181.51938885])"
            ]
          },
          "metadata": {},
          "execution_count": 38
        }
      ]
    },
    {
      "cell_type": "code",
      "metadata": {
        "id": "ZhqmhPdVSy93",
        "colab": {
          "base_uri": "https://localhost:8080/",
          "height": 203
        },
        "outputId": "abc31cf1-173b-4846-f6ab-a980f4ee6cc5"
      },
      "source": [
        "new_data = pd.read_csv('Cleaned car.csv')\n",
        "new_data.head()"
      ],
      "execution_count": null,
      "outputs": [
        {
          "output_type": "execute_result",
          "data": {
            "text/html": [
              "<div>\n",
              "<style scoped>\n",
              "    .dataframe tbody tr th:only-of-type {\n",
              "        vertical-align: middle;\n",
              "    }\n",
              "\n",
              "    .dataframe tbody tr th {\n",
              "        vertical-align: top;\n",
              "    }\n",
              "\n",
              "    .dataframe thead th {\n",
              "        text-align: right;\n",
              "    }\n",
              "</style>\n",
              "<table border=\"1\" class=\"dataframe\">\n",
              "  <thead>\n",
              "    <tr style=\"text-align: right;\">\n",
              "      <th></th>\n",
              "      <th>name</th>\n",
              "      <th>company</th>\n",
              "      <th>year</th>\n",
              "      <th>Price</th>\n",
              "      <th>kms_driven</th>\n",
              "      <th>fuel_type</th>\n",
              "    </tr>\n",
              "  </thead>\n",
              "  <tbody>\n",
              "    <tr>\n",
              "      <th>0</th>\n",
              "      <td>Hyundai Santro Xing</td>\n",
              "      <td>Hyundai</td>\n",
              "      <td>2007</td>\n",
              "      <td>80000</td>\n",
              "      <td>45000</td>\n",
              "      <td>Petrol</td>\n",
              "    </tr>\n",
              "    <tr>\n",
              "      <th>1</th>\n",
              "      <td>Mahindra Jeep CL550</td>\n",
              "      <td>Mahindra</td>\n",
              "      <td>2006</td>\n",
              "      <td>425000</td>\n",
              "      <td>40</td>\n",
              "      <td>Diesel</td>\n",
              "    </tr>\n",
              "    <tr>\n",
              "      <th>2</th>\n",
              "      <td>Hyundai Grand i10</td>\n",
              "      <td>Hyundai</td>\n",
              "      <td>2014</td>\n",
              "      <td>325000</td>\n",
              "      <td>28000</td>\n",
              "      <td>Petrol</td>\n",
              "    </tr>\n",
              "    <tr>\n",
              "      <th>3</th>\n",
              "      <td>Ford EcoSport Titanium</td>\n",
              "      <td>Ford</td>\n",
              "      <td>2014</td>\n",
              "      <td>575000</td>\n",
              "      <td>36000</td>\n",
              "      <td>Diesel</td>\n",
              "    </tr>\n",
              "    <tr>\n",
              "      <th>4</th>\n",
              "      <td>Ford Figo</td>\n",
              "      <td>Ford</td>\n",
              "      <td>2012</td>\n",
              "      <td>175000</td>\n",
              "      <td>41000</td>\n",
              "      <td>Diesel</td>\n",
              "    </tr>\n",
              "  </tbody>\n",
              "</table>\n",
              "</div>"
            ],
            "text/plain": [
              "                     name   company  year   Price  kms_driven fuel_type\n",
              "0     Hyundai Santro Xing   Hyundai  2007   80000       45000    Petrol\n",
              "1     Mahindra Jeep CL550  Mahindra  2006  425000          40    Diesel\n",
              "2       Hyundai Grand i10   Hyundai  2014  325000       28000    Petrol\n",
              "3  Ford EcoSport Titanium      Ford  2014  575000       36000    Diesel\n",
              "4               Ford Figo      Ford  2012  175000       41000    Diesel"
            ]
          },
          "metadata": {},
          "execution_count": 39
        }
      ]
    },
    {
      "cell_type": "code",
      "metadata": {
        "colab": {
          "base_uri": "https://localhost:8080/"
        },
        "id": "JrV7enVfuw28",
        "outputId": "d46bc045-c921-4153-f22c-227f469262a8"
      },
      "source": [
        "def car_detail(car_name, car_model):\n",
        "  same_car = dict()\n",
        "  for i in car_name:\n",
        "    for j in car_model:\n",
        "      if i in j:\n",
        "        same_car.setdefault(i, [])\n",
        "        if j not in [x for x in same_car[i]]:\n",
        "          same_car[i].append(j)\n",
        "  return same_car\n",
        "\n",
        "data1 = car_detail(new_data.company.values, new_data.name.values)\n",
        "print(data1)"
      ],
      "execution_count": null,
      "outputs": [
        {
          "output_type": "stream",
          "name": "stdout",
          "text": [
            "{'Hyundai': ['Hyundai Santro Xing', 'Hyundai Grand i10', 'Hyundai Eon', 'Hyundai Elite i20', 'Hyundai i20 Sportz', 'Hyundai i20 Magna', 'Hyundai Verna Transform', 'Hyundai i10 Magna', 'Hyundai Verna Fluidic', 'Hyundai i20 Asta', 'Hyundai i10 Sportz', 'Hyundai Eon Era', 'Hyundai i20', 'Hyundai Fluidic Verna', 'Hyundai Creta 1.6', 'Hyundai i20 Active', 'Hyundai Eon Sportz', 'Hyundai Accent GLX', 'Hyundai Elantra SX', 'Hyundai i10', 'Hyundai Accent', 'Hyundai Verna', 'Hyundai Verna 1.4', 'Hyundai Sonata Transform', 'Hyundai Verna 1.6', 'Hyundai Xcent Base', 'Hyundai Accent Executive', 'Hyundai Eon Magna', 'Hyundai Eon D', 'Hyundai Getz Prime', 'Hyundai Santro', 'Hyundai Accent GLE', 'Hyundai Verna VGT', 'Hyundai i10 Era', 'Hyundai Xcent SX', 'Hyundai Elantra 1.8', 'Hyundai Santro AE', 'Hyundai Getz GLE', 'Hyundai Creta', 'Hyundai i20 Select', 'Hyundai Getz'], 'Mahindra': ['Mahindra Jeep CL550', 'Mahindra Scorpio SLE', 'Mahindra Scorpio S10', 'Mahindra Bolero DI', 'Mahindra Scorpio S4', 'Mahindra Scorpio VLX', 'Mahindra Quanto C8', 'Mahindra XUV500 W8', 'Mahindra Scorpio', 'Mahindra XUV500', 'Mahindra Scorpio SLX', 'Mahindra Xylo E4', 'Mahindra Jeep MM', 'Mahindra Bolero SLE', 'Mahindra Thar CRDe', 'Mahindra TUV300 T4', 'Mahindra Scorpio 2.6', 'Mahindra KUV100 K8', 'Mahindra Bolero Power', 'Mahindra Scorpio W', 'Mahindra TUV300 T8', 'Mahindra Logan Diesel', 'Mahindra XUV500 W6', 'Mahindra Scorpio Vlx', 'Mahindra XUV500 W10', 'Mahindra Xylo E8', 'Mahindra KUV100', 'Mahindra Scorpio LX', 'Mahindra Xylo D2', 'Mahindra Logan', 'Mahindra Quanto C4'], 'Ford': ['Ford EcoSport Titanium', 'Ford Figo', 'Ford EcoSport Ambiente', 'Ford EcoSport', 'Ford Figo Diesel', 'Ford EcoSport Trend', 'Ford Fiesta', 'Ford Ikon 1.3', 'Ford Figo Duratorq', 'Ford Figo Petrol', 'Ford Fiesta SXi', 'Ford Ikon 1.6', 'Ford Fusion 1.4', 'Ford Endeavor 4x4'], 'Maruti': ['Maruti Suzuki Alto', 'Maruti Suzuki Stingray', 'Maruti Suzuki Vitara', 'Maruti Suzuki Swift', 'Maruti Suzuki Wagon', 'Maruti Suzuki Baleno', 'Maruti Suzuki Dzire', 'Maruti Suzuki SX4', 'Maruti Suzuki A', 'Maruti Suzuki Ertiga', 'Maruti Suzuki Eeco', 'Maruti Suzuki Esteem', 'Maruti Suzuki Ritz', 'Maruti Suzuki Ciaz', 'Maruti Suzuki Zen', 'Maruti Suzuki Maruti', 'Maruti Suzuki Versa', 'Maruti Suzuki Omni', 'Maruti Suzuki 800', 'Maruti Suzuki Estilo', 'Maruti Suzuki Celerio', 'Maruti Suzuki S'], 'Skoda': ['Skoda Fabia Classic', 'Skoda Yeti Ambition', 'Skoda Fabia 1.2L', 'Skoda Laura', 'Skoda Rapid Elegance', 'Skoda Superb 1.8', 'Skoda Octavia Classic', 'Skoda Fabia'], 'Audi': ['Audi A8', 'Audi Q7', 'Audi A4 1.8', 'Audi A4 2.0', 'Audi Q3 2.0', 'Audi A6 2.0', 'Audi Q5 2.0', 'Audi A3 Cabriolet'], 'Toyota': ['Toyota Innova 2.0', 'Toyota Corolla Altis', 'Toyota Etios GD', 'Toyota Etios Liva', 'Toyota Innova 2.5', 'Toyota Etios', 'Toyota Fortuner', 'Toyota Fortuner 3.0', 'Toyota Corolla H2', 'Toyota Corolla', 'Toyota Etios G', 'Toyota Qualis'], 'Renault': ['Renault Lodgy 85', 'Renault Duster 110', 'Renault Duster 85', 'Renault Duster 110PS', 'Renault Duster', 'Renault Kwid', 'Renault Scala RxL', 'Renault Kwid RXT', 'Renault Kwid 1.0', 'Renault Duster 85PS', 'Renault Duster RxL'], 'Honda': ['Honda City 1.5', 'Honda Amaze', 'Honda Amaze 1.5', 'Honda City', 'Honda City ZX', 'Honda Brio', 'Honda Amaze 1.2', 'Honda City VX', 'Honda Jazz VX', 'Honda Accord', 'Honda Mobilio', 'Honda Jazz S', 'Honda Brio V', 'Honda City SV', 'Honda Mobilio S', 'Honda Brio VX', 'Honda WR V'], 'Datsun': ['Datsun Redi GO', 'Datsun GO T', 'Datsun Go Plus'], 'Mitsubishi': ['Mitsubishi Pajero Sport', 'Mitsubishi Lancer 1.8'], 'Tata': ['Tata Indigo eCS', 'Tata Indica V2', 'Tata Indigo CS', 'Tata Nano Cx', 'Tata Sumo Victa', 'Tata Aria Pleasure', 'Tata Sumo Gold', 'Tata Manza Aura', 'Tata Vista Quadrajet', 'Tata Indigo LX', 'Tata Manza ELAN', 'Tata Indigo LS', 'Tata Nano GenX', 'Tata Zest XE', 'Tata Tigor Revotron', 'Tata Indica', 'Tata Nano Lx', 'Tata Nano', 'Tata Zest Quadrajet', 'Tata Indigo Marina', 'Tata Nano LX', 'Tata Manza Aqua', 'Tata Venture EX', 'Tata Indica eV2', 'Tata Tiago Revotron', 'Tata Tiago Revotorq', 'Tata Sumo Grande', 'Tata Bolt XM', 'Tata Manza', 'Tata Zest XM'], 'Volkswagen': ['Volkswagen Polo Highline', 'Volkswagen Vento Highline', 'Volkswagen Jetta Highline', 'Volkswagen Polo Comfortline', 'Volkswagen Polo', 'Volkswagen Passat Diesel', 'Volkswagen Vento Konekt', 'Volkswagen Polo Trendline', 'Volkswagen Vento Comfortline', 'Volkswagen Jetta Comfortline', 'Volkswagen Polo Highline1.2L'], 'Chevrolet': ['Chevrolet Spark LS', 'Chevrolet Beat LT', 'Chevrolet Spark', 'Chevrolet Beat', 'Chevrolet Spark LT', 'Chevrolet Beat LS', 'Chevrolet Tavera Neo', 'Chevrolet Enjoy 1.4', 'Chevrolet Sail UVA', 'Chevrolet Beat Diesel', 'Chevrolet Beat PS', 'Chevrolet Cruze LTZ', 'Chevrolet Spark 1.0', 'Chevrolet Enjoy', 'Chevrolet Tavera LS', 'Chevrolet Sail 1.2'], 'Mini': ['Mini Cooper S'], 'BMW': ['BMW 3 Series', 'BMW 7 Series', 'BMW 5 Series', 'BMW X1 xDrive20d', 'BMW X1 sDrive20d', 'BMW X1'], 'Nissan': ['Nissan Micra XV', 'Nissan Sunny', 'Nissan Terrano XL', 'Nissan X Trail', 'Nissan Sunny XL', 'Nissan Micra XL'], 'Hindustan': ['Hindustan Motors Ambassador'], 'Fiat': ['Fiat Punto Emotion', 'Fiat Petra ELX', 'Fiat Linea Emotion'], 'Force': ['Force Motors Force', 'Force Motors One'], 'Mercedes': ['Mercedes Benz GLA', 'Mercedes Benz B', 'Mercedes Benz C', 'Mercedes Benz A'], 'Land': ['Land Rover Freelander'], 'Jaguar': ['Jaguar XE XE', 'Jaguar XF 2.2'], 'Jeep': ['Mahindra Jeep CL550', 'Mahindra Jeep MM', 'Jeep Wrangler Unlimited'], 'Volvo': ['Volvo S80 Summum']}\n"
          ]
        }
      ]
    },
    {
      "cell_type": "code",
      "metadata": {
        "colab": {
          "base_uri": "https://localhost:8080/",
          "height": 391
        },
        "id": "g71BDlhmwqoB",
        "outputId": "97ea3297-0b97-490d-eb05-b68065388aa6"
      },
      "source": [
        "new = pd.DataFrame.from_dict(data1, orient='index')\n",
        "nw_dt = new.transpose()\n",
        "nw_dt.head()"
      ],
      "execution_count": null,
      "outputs": [
        {
          "output_type": "execute_result",
          "data": {
            "text/html": [
              "<div>\n",
              "<style scoped>\n",
              "    .dataframe tbody tr th:only-of-type {\n",
              "        vertical-align: middle;\n",
              "    }\n",
              "\n",
              "    .dataframe tbody tr th {\n",
              "        vertical-align: top;\n",
              "    }\n",
              "\n",
              "    .dataframe thead th {\n",
              "        text-align: right;\n",
              "    }\n",
              "</style>\n",
              "<table border=\"1\" class=\"dataframe\">\n",
              "  <thead>\n",
              "    <tr style=\"text-align: right;\">\n",
              "      <th></th>\n",
              "      <th>Hyundai</th>\n",
              "      <th>Mahindra</th>\n",
              "      <th>Ford</th>\n",
              "      <th>Maruti</th>\n",
              "      <th>Skoda</th>\n",
              "      <th>Audi</th>\n",
              "      <th>Toyota</th>\n",
              "      <th>Renault</th>\n",
              "      <th>Honda</th>\n",
              "      <th>Datsun</th>\n",
              "      <th>Mitsubishi</th>\n",
              "      <th>Tata</th>\n",
              "      <th>Volkswagen</th>\n",
              "      <th>Chevrolet</th>\n",
              "      <th>Mini</th>\n",
              "      <th>BMW</th>\n",
              "      <th>Nissan</th>\n",
              "      <th>Hindustan</th>\n",
              "      <th>Fiat</th>\n",
              "      <th>Force</th>\n",
              "      <th>Mercedes</th>\n",
              "      <th>Land</th>\n",
              "      <th>Jaguar</th>\n",
              "      <th>Jeep</th>\n",
              "      <th>Volvo</th>\n",
              "    </tr>\n",
              "  </thead>\n",
              "  <tbody>\n",
              "    <tr>\n",
              "      <th>0</th>\n",
              "      <td>Hyundai Santro Xing</td>\n",
              "      <td>Mahindra Jeep CL550</td>\n",
              "      <td>Ford EcoSport Titanium</td>\n",
              "      <td>Maruti Suzuki Alto</td>\n",
              "      <td>Skoda Fabia Classic</td>\n",
              "      <td>Audi A8</td>\n",
              "      <td>Toyota Innova 2.0</td>\n",
              "      <td>Renault Lodgy 85</td>\n",
              "      <td>Honda City 1.5</td>\n",
              "      <td>Datsun Redi GO</td>\n",
              "      <td>Mitsubishi Pajero Sport</td>\n",
              "      <td>Tata Indigo eCS</td>\n",
              "      <td>Volkswagen Polo Highline</td>\n",
              "      <td>Chevrolet Spark LS</td>\n",
              "      <td>Mini Cooper S</td>\n",
              "      <td>BMW 3 Series</td>\n",
              "      <td>Nissan Micra XV</td>\n",
              "      <td>Hindustan Motors Ambassador</td>\n",
              "      <td>Fiat Punto Emotion</td>\n",
              "      <td>Force Motors Force</td>\n",
              "      <td>Mercedes Benz GLA</td>\n",
              "      <td>Land Rover Freelander</td>\n",
              "      <td>Jaguar XE XE</td>\n",
              "      <td>Mahindra Jeep CL550</td>\n",
              "      <td>Volvo S80 Summum</td>\n",
              "    </tr>\n",
              "    <tr>\n",
              "      <th>1</th>\n",
              "      <td>Hyundai Grand i10</td>\n",
              "      <td>Mahindra Scorpio SLE</td>\n",
              "      <td>Ford Figo</td>\n",
              "      <td>Maruti Suzuki Stingray</td>\n",
              "      <td>Skoda Yeti Ambition</td>\n",
              "      <td>Audi Q7</td>\n",
              "      <td>Toyota Corolla Altis</td>\n",
              "      <td>Renault Duster 110</td>\n",
              "      <td>Honda Amaze</td>\n",
              "      <td>Datsun GO T</td>\n",
              "      <td>Mitsubishi Lancer 1.8</td>\n",
              "      <td>Tata Indica V2</td>\n",
              "      <td>Volkswagen Vento Highline</td>\n",
              "      <td>Chevrolet Beat LT</td>\n",
              "      <td>None</td>\n",
              "      <td>BMW 7 Series</td>\n",
              "      <td>Nissan Sunny</td>\n",
              "      <td>None</td>\n",
              "      <td>Fiat Petra ELX</td>\n",
              "      <td>Force Motors One</td>\n",
              "      <td>Mercedes Benz B</td>\n",
              "      <td>None</td>\n",
              "      <td>Jaguar XF 2.2</td>\n",
              "      <td>Mahindra Jeep MM</td>\n",
              "      <td>None</td>\n",
              "    </tr>\n",
              "    <tr>\n",
              "      <th>2</th>\n",
              "      <td>Hyundai Eon</td>\n",
              "      <td>Mahindra Scorpio S10</td>\n",
              "      <td>Ford EcoSport Ambiente</td>\n",
              "      <td>Maruti Suzuki Vitara</td>\n",
              "      <td>Skoda Fabia 1.2L</td>\n",
              "      <td>Audi A4 1.8</td>\n",
              "      <td>Toyota Etios GD</td>\n",
              "      <td>Renault Duster 85</td>\n",
              "      <td>Honda Amaze 1.5</td>\n",
              "      <td>Datsun Go Plus</td>\n",
              "      <td>None</td>\n",
              "      <td>Tata Indigo CS</td>\n",
              "      <td>Volkswagen Jetta Highline</td>\n",
              "      <td>Chevrolet Spark</td>\n",
              "      <td>None</td>\n",
              "      <td>BMW 5 Series</td>\n",
              "      <td>Nissan Terrano XL</td>\n",
              "      <td>None</td>\n",
              "      <td>Fiat Linea Emotion</td>\n",
              "      <td>None</td>\n",
              "      <td>Mercedes Benz C</td>\n",
              "      <td>None</td>\n",
              "      <td>None</td>\n",
              "      <td>Jeep Wrangler Unlimited</td>\n",
              "      <td>None</td>\n",
              "    </tr>\n",
              "    <tr>\n",
              "      <th>3</th>\n",
              "      <td>Hyundai Elite i20</td>\n",
              "      <td>Mahindra Bolero DI</td>\n",
              "      <td>Ford EcoSport</td>\n",
              "      <td>Maruti Suzuki Swift</td>\n",
              "      <td>Skoda Laura</td>\n",
              "      <td>Audi A4 2.0</td>\n",
              "      <td>Toyota Etios Liva</td>\n",
              "      <td>Renault Duster 110PS</td>\n",
              "      <td>Honda City</td>\n",
              "      <td>None</td>\n",
              "      <td>None</td>\n",
              "      <td>Tata Nano Cx</td>\n",
              "      <td>Volkswagen Polo Comfortline</td>\n",
              "      <td>Chevrolet Beat</td>\n",
              "      <td>None</td>\n",
              "      <td>BMW X1 xDrive20d</td>\n",
              "      <td>Nissan X Trail</td>\n",
              "      <td>None</td>\n",
              "      <td>None</td>\n",
              "      <td>None</td>\n",
              "      <td>Mercedes Benz A</td>\n",
              "      <td>None</td>\n",
              "      <td>None</td>\n",
              "      <td>None</td>\n",
              "      <td>None</td>\n",
              "    </tr>\n",
              "    <tr>\n",
              "      <th>4</th>\n",
              "      <td>Hyundai i20 Sportz</td>\n",
              "      <td>Mahindra Scorpio S4</td>\n",
              "      <td>Ford Figo Diesel</td>\n",
              "      <td>Maruti Suzuki Wagon</td>\n",
              "      <td>Skoda Rapid Elegance</td>\n",
              "      <td>Audi Q3 2.0</td>\n",
              "      <td>Toyota Innova 2.5</td>\n",
              "      <td>Renault Duster</td>\n",
              "      <td>Honda City ZX</td>\n",
              "      <td>None</td>\n",
              "      <td>None</td>\n",
              "      <td>Tata Sumo Victa</td>\n",
              "      <td>Volkswagen Polo</td>\n",
              "      <td>Chevrolet Spark LT</td>\n",
              "      <td>None</td>\n",
              "      <td>BMW X1 sDrive20d</td>\n",
              "      <td>Nissan Sunny XL</td>\n",
              "      <td>None</td>\n",
              "      <td>None</td>\n",
              "      <td>None</td>\n",
              "      <td>None</td>\n",
              "      <td>None</td>\n",
              "      <td>None</td>\n",
              "      <td>None</td>\n",
              "      <td>None</td>\n",
              "    </tr>\n",
              "  </tbody>\n",
              "</table>\n",
              "</div>"
            ],
            "text/plain": [
              "               Hyundai  ...             Volvo\n",
              "0  Hyundai Santro Xing  ...  Volvo S80 Summum\n",
              "1    Hyundai Grand i10  ...              None\n",
              "2          Hyundai Eon  ...              None\n",
              "3    Hyundai Elite i20  ...              None\n",
              "4   Hyundai i20 Sportz  ...              None\n",
              "\n",
              "[5 rows x 25 columns]"
            ]
          },
          "metadata": {},
          "execution_count": 41
        }
      ]
    },
    {
      "cell_type": "code",
      "metadata": {
        "id": "Wuib0Nid14nA"
      },
      "source": [
        "nw_dt.to_csv('Car model.csv', index=False)"
      ],
      "execution_count": null,
      "outputs": []
    },
    {
      "cell_type": "code",
      "metadata": {
        "id": "RJNDg_4M8vtl"
      },
      "source": [],
      "execution_count": null,
      "outputs": []
    }
  ]
}